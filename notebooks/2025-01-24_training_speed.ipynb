{
 "cells": [
  {
   "cell_type": "markdown",
   "metadata": {},
   "source": [
    "# How much more compute does it take to train JSAEs vs traditional SAEs?"
   ]
  },
  {
   "cell_type": "code",
   "execution_count": 2,
   "metadata": {},
   "outputs": [
    {
     "name": "stdout",
     "output_type": "stream",
     "text": [
      "Traditional: 32.5 ± 0.1 minutes\n",
      "JSAEs: 71.6 ± 0.4 minutes\n",
      "JSAEs take 2.2 longer than traditional training\n"
     ]
    }
   ],
   "source": [
    "import wandb\n",
    "import numpy as np\n",
    "\n",
    "api = wandb.Api()\n",
    "runs = api.runs(\"lucyfarnik/jsaes_training_speed\")\n",
    "\n",
    "runtimes_trad = []\n",
    "runtimes_jsaes = []\n",
    "for run in runs:\n",
    "    if run.state != \"finished\":\n",
    "        print(f\"Run {run.id} is not finished.\")\n",
    "        continue\n",
    "    if \"traditional\" in run.metadata[\"codePath\"]:\n",
    "        runtimes_trad.append(run.summary[\"_runtime\"])\n",
    "    else:\n",
    "        runtimes_jsaes.append(run.summary[\"_runtime\"])\n",
    "\n",
    "# caclulate mean and std\n",
    "runtimes_trad = np.array(runtimes_trad) / 60\n",
    "runtimes_jsaes = np.array(runtimes_jsaes) / 60\n",
    "print(f\"Traditional: {runtimes_trad.mean():.1f} ± {runtimes_trad.std():.1f} minutes\")\n",
    "print(f\"JSAEs: {runtimes_jsaes.mean():.1f} ± {runtimes_jsaes.std():.1f} minutes\")\n",
    "print(f\"JSAEs take {runtimes_jsaes.mean() / runtimes_trad.mean():.1f} longer than traditional training\")"
   ]
  },
  {
   "cell_type": "code",
   "execution_count": null,
   "metadata": {},
   "outputs": [],
   "source": []
  }
 ],
 "metadata": {
  "kernelspec": {
   "display_name": "base",
   "language": "python",
   "name": "python3"
  },
  "language_info": {
   "codemirror_mode": {
    "name": "ipython",
    "version": 3
   },
   "file_extension": ".py",
   "mimetype": "text/x-python",
   "name": "python",
   "nbconvert_exporter": "python",
   "pygments_lexer": "ipython3",
   "version": "3.12.7"
  }
 },
 "nbformat": 4,
 "nbformat_minor": 2
}
