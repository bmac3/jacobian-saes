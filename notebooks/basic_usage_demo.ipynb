{
 "cells": [
  {
   "cell_type": "markdown",
   "metadata": {},
   "source": [
    "# Quick and dirty reference sheet for Tim\n",
    "\n",
    "## Training JSAEs\n",
    "Run `train.py` and change any arguments you need. That automatically uploads the trained model to Wandb.\n",
    "\n",
    "## Using pre-trained JSAEs"
   ]
  },
  {
   "cell_type": "markdown",
   "metadata": {},
   "source": [
    "You can download the sae_pair like this. When you're using it, you basically always pass in a boolean argument which specifies which SAE to use (False = pre-MLP SAE; True = post-MLP SAE)."
   ]
  },
  {
   "cell_type": "code",
   "execution_count": 1,
   "metadata": {},
   "outputs": [
    {
     "name": "stderr",
     "output_type": "stream",
     "text": [
      "/Users/tz20913/Library/Mobile Documents/com~apple~CloudDocs/Desktop/Research/Jacobian SAEs/notebooks/../jacobian_saes/sae_pair.py:146: UserWarning: \n",
      "This SAE has non-empty model_from_pretrained_kwargs. \n",
      "For optimal performance, load the model like so:\n",
      "model = HookedSAETransformer.from_pretrained_no_processing(..., **cfg.model_from_pretrained_kwargs)\n",
      "  warnings.warn(\n"
     ]
    },
    {
     "name": "stdout",
     "output_type": "stream",
     "text": [
      "Loaded pretrained model pythia-70m-deduped into HookedTransformer\n"
     ]
    }
   ],
   "source": [
    "import sys\n",
    "sys.path.append('..')\n",
    "from jacobian_saes.utils import load_pretrained, run_sandwich\n",
    "\n",
    "# Load the pretrained model\n",
    "wandb_path = \"lucyfarnik/jsaes_pythia70m1/sae_pythia-70m-deduped_blocks.3.ln2.hook_normalized_16384:v0\"\n",
    "sae_pair, model, mlp_with_grads, layer = load_pretrained(wandb_path)\n",
    "\n",
    "_, cache = model.run_with_cache(\"Hello world!\", stop_at_layer=layer+1,\n",
    "                                names_filter=[sae_pair.cfg.hook_name])\n",
    "acts = cache[sae_pair.cfg.hook_name]\n",
    "\n",
    "# Encoding and decoding\n",
    "encoded, topk_indices = sae_pair.encode(acts, False, return_topk_indices=True)\n",
    "reconstructed = sae_pair.decode(encoded, False)\n",
    "\n",
    "# Run the sandwich\n",
    "jacobian, acts_dict = run_sandwich(sae_pair, mlp_with_grads, acts)"
   ]
  },
  {
   "cell_type": "markdown",
   "metadata": {},
   "source": [
    "## Important: the first SAE's activations should not be causally upstream of the second SAE's activations"
   ]
  },
  {
   "cell_type": "markdown",
   "metadata": {},
   "source": [
    "The code below is correct"
   ]
  },
  {
   "cell_type": "code",
   "execution_count": 2,
   "metadata": {},
   "outputs": [],
   "source": [
    "sae_acts1 = sae_pair.encode(acts, False)\n",
    "act_reconstr = sae_pair.decode(sae_acts1, False)\n",
    "mlp_out, _ = mlp_with_grads(acts) #! important bit: we're passing in the original activations\n",
    "sae_acts2 = sae_pair.encode(mlp_out, True)\n",
    "mlp_out_reconstr = sae_pair.decode(sae_acts2, True)"
   ]
  },
  {
   "cell_type": "markdown",
   "metadata": {},
   "source": [
    "The code below is wrong"
   ]
  },
  {
   "cell_type": "code",
   "execution_count": 3,
   "metadata": {},
   "outputs": [
    {
     "ename": "ValueError",
     "evalue": "You passed in the wrong thing",
     "output_type": "error",
     "traceback": [
      "\u001b[0;31m---------------------------------------------------------------------------\u001b[0m",
      "\u001b[0;31mValueError\u001b[0m                                Traceback (most recent call last)",
      "Cell \u001b[0;32mIn[3], line 4\u001b[0m\n\u001b[1;32m      2\u001b[0m act_reconstr \u001b[38;5;241m=\u001b[39m sae_pair\u001b[38;5;241m.\u001b[39mdecode(sae_acts1, \u001b[38;5;28;01mFalse\u001b[39;00m)\n\u001b[1;32m      3\u001b[0m mlp_out \u001b[38;5;241m=\u001b[39m mlp(act_reconstr) \u001b[38;5;66;03m#! important bit: we're passing in the reconstructed activations, which isn't what we trained with\u001b[39;00m\n\u001b[0;32m----> 4\u001b[0m \u001b[38;5;28;01mraise\u001b[39;00m \u001b[38;5;167;01mValueError\u001b[39;00m(\u001b[38;5;124m\"\u001b[39m\u001b[38;5;124mYou passed in the wrong thing\u001b[39m\u001b[38;5;124m\"\u001b[39m)\n\u001b[1;32m      5\u001b[0m sae_acts2 \u001b[38;5;241m=\u001b[39m sae_pair\u001b[38;5;241m.\u001b[39mencode(mlp_out, \u001b[38;5;28;01mTrue\u001b[39;00m)\n\u001b[1;32m      6\u001b[0m mlp_out_reconstr \u001b[38;5;241m=\u001b[39m sae_pair\u001b[38;5;241m.\u001b[39mdecode(sae_acts2, \u001b[38;5;28;01mTrue\u001b[39;00m)\n",
      "\u001b[0;31mValueError\u001b[0m: You passed in the wrong thing"
     ]
    }
   ],
   "source": [
    "sae_acts1 = sae_pair.encode(acts, False)\n",
    "act_reconstr = sae_pair.decode(sae_acts1, False)\n",
    "mlp_out, _ = mlp_with_grads(act_reconstr) #! important bit: we're passing in the reconstructed activations, which isn't what we trained with\n",
    "raise ValueError(\"You passed in the wrong thing\")\n",
    "sae_acts2 = sae_pair.encode(mlp_out, True)\n",
    "mlp_out_reconstr = sae_pair.decode(sae_acts2, True)"
   ]
  }
 ],
 "metadata": {
  "kernelspec": {
   "display_name": "base",
   "language": "python",
   "name": "python3"
  },
  "language_info": {
   "codemirror_mode": {
    "name": "ipython",
    "version": 3
   },
   "file_extension": ".py",
   "mimetype": "text/x-python",
   "name": "python",
   "nbconvert_exporter": "python",
   "pygments_lexer": "ipython3",
   "version": "3.12.7"
  }
 },
 "nbformat": 4,
 "nbformat_minor": 2
}
